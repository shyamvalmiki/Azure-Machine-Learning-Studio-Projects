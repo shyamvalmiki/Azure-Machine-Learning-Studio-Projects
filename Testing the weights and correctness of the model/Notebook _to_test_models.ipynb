{
  "nbformat": 4,
  "nbformat_minor": 0,
  "metadata": {
    "colab": {
      "provenance": [],
      "gpuType": "T4"
    },
    "kernelspec": {
      "name": "python3",
      "display_name": "Python 3"
    },
    "language_info": {
      "name": "python"
    },
    "accelerator": "GPU"
  },
  "cells": [
    {
      "cell_type": "markdown",
      "source": [
        "# Testing the NN models.\n",
        "1.   Upload the dataset.\n",
        "2.   Upload the respective weights.\n",
        "3.   Run the section for testing\n",
        "*** Connect to GPU while testing the Neural Networks trained on Raw Dataset **bold text**\n",
        "\n"
      ],
      "metadata": {
        "id": "13h8ipacZN21"
      }
    },
    {
      "cell_type": "markdown",
      "source": [
        "## Testing NN on Image dataset."
      ],
      "metadata": {
        "id": "WEok3Ij4aEd9"
      }
    },
    {
      "cell_type": "markdown",
      "source": [
        "### Multiclass Classification"
      ],
      "metadata": {
        "id": "_bbHHA1kaNgQ"
      }
    },
    {
      "cell_type": "code",
      "execution_count": 7,
      "metadata": {
        "id": "u-FZq-mUY8HO"
      },
      "outputs": [],
      "source": [
        "import torch\n",
        "import torch.nn as nn\n",
        "import seaborn as sns\n",
        "import pandas as pd\n",
        "import torch.optim as optim\n",
        "import matplotlib.pyplot as plt\n",
        "from torch.utils.data import Dataset, DataLoader\n",
        "from sklearn.model_selection import train_test_split\n",
        "from sklearn.metrics import f1_score, recall_score, confusion_matrix, classification_report\n",
        "\n",
        "# Defining neural network architecture\n",
        "\n",
        "class MyNet(nn.Module):\n",
        "  def __init__(self,in_channels, out_channels,n_classes):\n",
        "    super(MyNet,self).__init__()\n",
        "\n",
        "    self.conv1 = nn.Conv2d(1,16,kernel_size = 3, stride = 1, padding = 1)\n",
        "    self.relu1 = nn.ReLU()\n",
        "    self.maxpool = nn.MaxPool2d(kernel_size = 2, stride = 2)\n",
        "    self.conv2 = nn.Conv2d(16,32,kernel_size = 3, stride = 1, padding = 1)\n",
        "    self.relu2 = nn.ReLU()\n",
        "    self.fc1 = nn.Linear(4608, 256)\n",
        "    self.fc2 = nn.Linear(256,128)\n",
        "    self.fc3 = nn.Linear(128,64)\n",
        "    self.fc4 = nn.Linear(64,64)\n",
        "    self.fc5 = nn.Linear(64, n_classes)\n",
        "    self.relu3 = nn.ReLU()\n",
        "    self.relu4 = nn.ReLU()\n",
        "    self.relu5 = nn.ReLU()\n",
        "    self.relu6 = nn.ReLU()\n",
        "    self.relu7 = nn.ReLU()\n",
        "\n",
        "  def forward(self,x):\n",
        "    out = self.conv1(x)\n",
        "    out = self.relu1(out)\n",
        "    out = self.maxpool(out)\n",
        "    out = self.conv2(out)\n",
        "    out = self.relu2(out)\n",
        "    out = self.maxpool(out)\n",
        "    out = out.view(out.size(0),-1)\n",
        "    out = self.fc1(out)\n",
        "    out = self.relu3(out)\n",
        "    out = self.fc2(out)\n",
        "    out = self.relu4(out)\n",
        "    out = self.fc3(out)\n",
        "    out = self.relu5(out)\n",
        "    out = self.fc4(out)\n",
        "    out = self.relu6(out)\n",
        "    out = self.fc5(out)\n",
        "    out = self.relu7(out)\n",
        "    return out\n",
        "\n",
        "# Customizing dataset class\n",
        "class MyDataset(Dataset):\n",
        "    def __init__(self, data, labels):\n",
        "        self.data = data\n",
        "        self.labels = labels\n",
        "\n",
        "    def __len__(self):\n",
        "        return len(self.data)\n",
        "\n",
        "    def __getitem__(self, idx):\n",
        "        x = self.data[idx]\n",
        "        y = self.labels[idx]\n",
        "        return x, y"
      ]
    },
    {
      "cell_type": "code",
      "source": [
        "# Loading and preprocessing the dataset\n",
        "df = pd.read_csv('im.csv')\n",
        "features = df.iloc[:, :-1]\n",
        "labels = df.iloc[:, -1]\n",
        "\n",
        "# Splitting the data into training and testing sets\n",
        "X_train, X_test, y_train, y_test = train_test_split(features, labels, test_size=0.2, random_state=42)\n",
        "\n",
        "# Converting the data to PyTorch tensors\n",
        "X_train = torch.tensor(X_train.values, dtype=torch.float32)\n",
        "y_train = torch.tensor(y_train.values, dtype=torch.long)\n",
        "X_test = torch.tensor(X_test.values, dtype=torch.float32)\n",
        "y_test = torch.tensor(y_test.values, dtype=torch.long)\n",
        "\n",
        "X_train = X_train.view(-1, 1, 50, 50)\n",
        "X_test = X_test.view(-1, 1, 50, 50)\n",
        "\n",
        "# Creating DataLoader objects for training and testing sets\n",
        "train_dataset = MyDataset(X_train, y_train)\n",
        "test_dataset = MyDataset(X_test, y_test)\n",
        "\n",
        "\n",
        "\n",
        "train_dataloader = DataLoader(train_dataset, batch_size=32, shuffle=True)\n",
        "test_dataloader = DataLoader(test_dataset, batch_size=32, shuffle=False)\n",
        "\n",
        "# Defining the model, loss function, and optimizer\n",
        "input_size = X_train.shape[1]\n",
        "hidden_size = 64\n",
        "num_classes = 6\n",
        "\n",
        "model = MyNet(input_size, hidden_size, num_classes)"
      ],
      "metadata": {
        "id": "59HqwkCrbFFa"
      },
      "execution_count": 8,
      "outputs": []
    },
    {
      "cell_type": "code",
      "source": [
        "weights_path = 'im.pth'\n",
        "model.load_state_dict(torch.load(weights_path))\n"
      ],
      "metadata": {
        "colab": {
          "base_uri": "https://localhost:8080/"
        },
        "id": "jjXl6R5UbkWs",
        "outputId": "4078062c-40fd-442c-8125-d27b4d30c314"
      },
      "execution_count": 9,
      "outputs": [
        {
          "output_type": "execute_result",
          "data": {
            "text/plain": [
              "<All keys matched successfully>"
            ]
          },
          "metadata": {},
          "execution_count": 9
        }
      ]
    },
    {
      "cell_type": "code",
      "source": [
        "\n",
        "# Evaluation\n",
        "model.eval()\n",
        "total_correct = 0\n",
        "total_samples = 0\n",
        "true_labels = []\n",
        "predicted_labels = []\n",
        "\n",
        "with torch.no_grad():\n",
        "    for inputs, targets in test_dataloader:\n",
        "        outputs = model(inputs)\n",
        "        _, predicted = torch.max(outputs, dim=1)\n",
        "        total_samples += targets.size(0)\n",
        "        total_correct += (predicted == targets).sum().item()\n",
        "\n",
        "        true_labels.extend(targets.cpu().numpy())\n",
        "        predicted_labels.extend(predicted.cpu().numpy())\n",
        "\n",
        "accuracy = total_correct / total_samples\n",
        "print(f'Test accuracy: {accuracy}')\n",
        "\n",
        "# Calculating F1 score and recall\n",
        "f1 = f1_score(true_labels, predicted_labels, average='macro')\n",
        "recall = recall_score(true_labels, predicted_labels, average='macro')\n",
        "print(f'Test F1 score: {f1}')\n",
        "print(f'Test recall: {recall}')\n",
        "\n",
        "# Drawing the confusion matrix plot using Seaborn\n",
        "cm = confusion_matrix(true_labels, predicted_labels)\n",
        "plt.figure(figsize=(10, 8))\n",
        "sns.heatmap(cm, annot=True, fmt='d', cmap='Blues', xticklabels=True, yticklabels=True)\n",
        "plt.title('Confusion Matrix')\n",
        "plt.xlabel('Predicted Label')\n",
        "plt.ylabel('True Label')\n",
        "plt.show()"
      ],
      "metadata": {
        "colab": {
          "base_uri": "https://localhost:8080/",
          "height": 770
        },
        "id": "zlWeB7dhb0kE",
        "outputId": "6fbc58e9-babf-4258-b03e-3f3d17653bfc"
      },
      "execution_count": 10,
      "outputs": [
        {
          "output_type": "stream",
          "name": "stdout",
          "text": [
            "Test accuracy: 0.9887612997801124\n",
            "Test F1 score: 0.9784997628507225\n",
            "Test recall: 0.9730484883619471\n"
          ]
        },
        {
          "output_type": "display_data",
          "data": {
            "text/plain": [
              "<Figure size 1000x800 with 2 Axes>"
            ],
            "image/png": "[encoded data removed]"
          },
          "metadata": {}
        }
      ]
    },
    {
      "cell_type": "markdown",
      "source": [
        "###Binary Classification"
      ],
      "metadata": {
        "id": "AftOv6yIgUPV"
      }
    },
    {
      "cell_type": "code",
      "source": [
        "# Loading and preprocessing the dataset\n",
        "df = pd.read_csv('ina.csv')\n",
        "features = df.iloc[:, :-1]\n",
        "labels = df.iloc[:, -1]\n",
        "\n",
        "# Splitting the data into training and testing sets\n",
        "X_train, X_test, y_train, y_test = train_test_split(features, labels, test_size=0.2, random_state=42)\n",
        "\n",
        "# Converting the data to PyTorch tensors\n",
        "X_train = torch.tensor(X_train.values, dtype=torch.float32)\n",
        "y_train = torch.tensor(y_train.values, dtype=torch.long)\n",
        "X_test = torch.tensor(X_test.values, dtype=torch.float32)\n",
        "y_test = torch.tensor(y_test.values, dtype=torch.long)\n",
        "\n",
        "X_train = X_train.view(-1, 1, 50, 50)\n",
        "X_test = X_test.view(-1, 1, 50, 50)\n",
        "\n",
        "# Creating DataLoader objects for training and testing sets\n",
        "train_dataset = MyDataset(X_train, y_train)\n",
        "test_dataset = MyDataset(X_test, y_test)\n",
        "\n",
        "\n",
        "\n",
        "train_dataloader = DataLoader(train_dataset, batch_size=32, shuffle=True)\n",
        "test_dataloader = DataLoader(test_dataset, batch_size=32, shuffle=False)\n",
        "\n",
        "# Defining the model, loss function, and optimizer\n",
        "input_size = X_train.shape[1]\n",
        "hidden_size = 64\n",
        "num_classes = 2\n",
        "\n",
        "model = MyNet(input_size, hidden_size, num_classes)"
      ],
      "metadata": {
        "id": "pVosFbNSgCyI"
      },
      "execution_count": 11,
      "outputs": []
    },
    {
      "cell_type": "code",
      "source": [
        "weights_path = 'ina.pth'\n",
        "model.load_state_dict(torch.load(weights_path))\n"
      ],
      "metadata": {
        "colab": {
          "base_uri": "https://localhost:8080/"
        },
        "id": "bFLY7JEkgipY",
        "outputId": "633140fc-c0cc-495f-8c7d-0eb86896b564"
      },
      "execution_count": 12,
      "outputs": [
        {
          "output_type": "execute_result",
          "data": {
            "text/plain": [
              "<All keys matched successfully>"
            ]
          },
          "metadata": {},
          "execution_count": 12
        }
      ]
    },
    {
      "cell_type": "code",
      "source": [
        "\n",
        "# Evaluation\n",
        "model.eval()\n",
        "total_correct = 0\n",
        "total_samples = 0\n",
        "true_labels = []\n",
        "predicted_labels = []\n",
        "\n",
        "with torch.no_grad():\n",
        "    for inputs, targets in test_dataloader:\n",
        "        outputs = model(inputs)\n",
        "        _, predicted = torch.max(outputs, dim=1)\n",
        "        total_samples += targets.size(0)\n",
        "        total_correct += (predicted == targets).sum().item()\n",
        "\n",
        "        true_labels.extend(targets.cpu().numpy())\n",
        "        predicted_labels.extend(predicted.cpu().numpy())\n",
        "\n",
        "accuracy = total_correct / total_samples\n",
        "print(f'Test accuracy: {accuracy}')\n",
        "\n",
        "# Calculating F1 score and recall\n",
        "f1 = f1_score(true_labels, predicted_labels, average='macro')\n",
        "recall = recall_score(true_labels, predicted_labels, average='macro')\n",
        "print(f'Test F1 score: {f1}')\n",
        "print(f'Test recall: {recall}')\n",
        "\n",
        "# Drawing the confusion matrix plot using Seaborn\n",
        "cm = confusion_matrix(true_labels, predicted_labels)\n",
        "plt.figure(figsize=(10, 8))\n",
        "sns.heatmap(cm, annot=True, fmt='d', cmap='Blues', xticklabels=True, yticklabels=True)\n",
        "plt.title('Confusion Matrix')\n",
        "plt.xlabel('Predicted Label')\n",
        "plt.ylabel('True Label')\n",
        "plt.show()"
      ],
      "metadata": {
        "colab": {
          "base_uri": "https://localhost:8080/",
          "height": 770
        },
        "id": "51uco1uOgmIS",
        "outputId": "1fc87997-690d-4005-8750-c95ab6cd6ba5"
      },
      "execution_count": 13,
      "outputs": [
        {
          "output_type": "stream",
          "name": "stdout",
          "text": [
            "Test accuracy: 0.9982897630100172\n",
            "Test F1 score: 0.9978385981810609\n",
            "Test recall: 0.9981199802389218\n"
          ]
        },
        {
          "output_type": "display_data",
          "data": {
            "text/plain": [
              "<Figure size 1000x800 with 2 Axes>"
            ],
            "image/png": "[encoded data removed]"
          },
          "metadata": {}
        }
      ]
    },
    {
      "cell_type": "markdown",
      "source": [
        "## Testing NN on Raw dataset."
      ],
      "metadata": {
        "id": "7GbTfNcrlVV9"
      }
    },
    {
      "cell_type": "markdown",
      "source": [
        "### 1) Binary Classification\n",
        "\n",
        "\n"
      ],
      "metadata": {
        "id": "xuCJ2iN2mFQk"
      }
    },
    {
      "cell_type": "code",
      "source": [
        "import torch\n",
        "import torch.nn as nn\n",
        "import torch.optim as optim\n",
        "import pandas as pd\n",
        "from torch.utils.data import Dataset, DataLoader\n",
        "from sklearn.model_selection import train_test_split\n",
        "import seaborn as sns\n",
        "import matplotlib.pyplot as plt\n",
        "from sklearn.metrics import confusion_matrix, classification_report\n",
        "from sklearn.metrics import accuracy_score, f1_score, recall_score\n",
        "\n",
        "\n",
        "class MyNet(nn.Module):\n",
        "    def __init__(self, in_channels, out_channels, n_classes):\n",
        "        super(MyNet, self).__init__()\n",
        "\n",
        "        self.conv1 = nn.Conv1d(1, 16, kernel_size=3, stride=1, padding=1)\n",
        "        self.relu1 = nn.ReLU()\n",
        "        self.maxpool1 = nn.MaxPool1d(kernel_size=2, stride=2)\n",
        "        self.conv2 = nn.Conv1d(16, 64, kernel_size=3, stride=1, padding=1)\n",
        "        self.relu2 = nn.ReLU()\n",
        "        self.maxpool2 = nn.MaxPool1d(kernel_size=2, stride=13)\n",
        "        self.fc1 = nn.Linear(512, 256)\n",
        "        self.fc2 = nn.Linear(256, 128)\n",
        "        self.fc3 = nn.Linear(128, 64)\n",
        "        self.fc4 = nn.Linear(64, 32)\n",
        "        self.fc5 = nn.Linear(32, n_classes)\n",
        "        self.relu3 = nn.ReLU()\n",
        "        self.relu4 = nn.ReLU()\n",
        "        self.relu5 = nn.ReLU()\n",
        "        self.relu6 = nn.ReLU()\n",
        "        self.relu7 = nn.ReLU()\n",
        "    def forward(self, x):\n",
        "        out = self.conv1(x)\n",
        "        out = self.relu1(out)\n",
        "        out = self.maxpool1(out)\n",
        "        out = self.conv2(out)\n",
        "        out = self.relu2(out)\n",
        "        out = self.maxpool2(out)\n",
        "        out = out.view(out.size(0), -1)\n",
        "        out = self.fc1(out)\n",
        "        out = self.relu3(out)\n",
        "        out = self.fc2(out)\n",
        "        out = self.relu4(out)\n",
        "        out = self.fc3(out)\n",
        "        out = self.relu5(out)\n",
        "        out = self.fc4(out)\n",
        "        out = self.relu6(out)\n",
        "        out = self.fc5(out)\n",
        "        out = self.relu7(out)\n",
        "        return out\n",
        "\n",
        "#defining the dataset\n",
        "class MyDataset(Dataset):\n",
        "    def __init__(self, data, labels):\n",
        "        self.data = data\n",
        "        self.labels = labels\n",
        "\n",
        "    def __len__(self):\n",
        "        return len(self.data)\n",
        "\n",
        "    def __getitem__(self, idx):\n",
        "        x = self.data[idx]\n",
        "        y = self.labels[idx]\n",
        "        return x, y\n",
        "\n"
      ],
      "metadata": {
        "id": "Ev61l3xAgp2O"
      },
      "execution_count": 1,
      "outputs": []
    },
    {
      "cell_type": "code",
      "source": [
        "\n",
        "# Loading and preprocessing the dataset\n",
        "df = pd.read_csv('dna.csv')\n",
        "features = df.iloc[:, :-1]\n",
        "labels = df.iloc[:, -1]\n",
        "\n",
        "# Splitting the data into training and testing sets\n",
        "X_train, X_test, y_train, y_test = train_test_split(features, labels, test_size=0.2, random_state=42)\n",
        "\n",
        "# Converting the data to PyTorch tensors and moving to GPU if available\n",
        "device = torch.device('cuda' if torch.cuda.is_available() else 'cpu')\n",
        "X_train = torch.tensor(X_train.values, dtype=torch.float32).to(device)\n",
        "y_train = torch.tensor(y_train.values, dtype=torch.long).to(device)\n",
        "X_test = torch.tensor(X_test.values, dtype=torch.float32).to(device)\n",
        "y_test = torch.tensor(y_test.values, dtype=torch.long).to(device)\n",
        "\n",
        "# Creating DataLoader objects for training and testing sets\n",
        "train_dataset = MyDataset(X_train, y_train)\n",
        "test_dataset = MyDataset(X_test, y_test)\n",
        "\n",
        "train_dataloader = DataLoader(train_dataset, batch_size=32, shuffle=True)\n",
        "test_dataloader = DataLoader(test_dataset, batch_size=32, shuffle=False)\n",
        "\n",
        "# Defining the model, loss function, and optimizer and moving to GPU\n",
        "input_size = X_train.shape[1]\n",
        "hidden_size = 64\n",
        "num_classes = 2\n",
        "\n",
        "model = MyNet(input_size, hidden_size, num_classes).to(device)"
      ],
      "metadata": {
        "id": "Wy9yFMHvlnWU"
      },
      "execution_count": 2,
      "outputs": []
    },
    {
      "cell_type": "code",
      "source": [
        "weights_path = 'dna.pth'\n",
        "model.load_state_dict(torch.load(weights_path))\n"
      ],
      "metadata": {
        "colab": {
          "base_uri": "https://localhost:8080/"
        },
        "id": "Ll8e6v35l6V0",
        "outputId": "54d57554-d901-4e9d-b086-d36d89fce14e"
      },
      "execution_count": 3,
      "outputs": [
        {
          "output_type": "execute_result",
          "data": {
            "text/plain": [
              "<All keys matched successfully>"
            ]
          },
          "metadata": {},
          "execution_count": 3
        }
      ]
    },
    {
      "cell_type": "code",
      "source": [
        "total_correct = 0\n",
        "total_samples = 0\n",
        "\n",
        "# Calculating F1 score, recall, and accuracy\n",
        "true_labels = []\n",
        "predicted_labels = []\n",
        "\n",
        "with torch.no_grad():\n",
        "    for inputs, targets in test_dataloader:\n",
        "        outputs = model(inputs.unsqueeze(1))\n",
        "        _, predicted = torch.max(outputs, dim=1)\n",
        "\n",
        "        true_labels.extend(targets.cpu().numpy())\n",
        "        predicted_labels.extend(predicted.cpu().numpy())\n",
        "\n",
        "test_accuracy = accuracy_score(true_labels, predicted_labels)\n",
        "f1 = f1_score(true_labels, predicted_labels, average='macro')\n",
        "recall = recall_score(true_labels, predicted_labels, average='macro')\n",
        "\n",
        "print(f'Test Accuracy: {test_accuracy:.4f}')\n",
        "print(f'Test F1 Score: {f1:.4f}')\n",
        "print(f'Test Recall: {recall:.4f}')\n",
        "\n",
        "# Calculating and plotting the confusion matrix\n",
        "conf_matrix = confusion_matrix(true_labels, predicted_labels)\n",
        "plt.figure(figsize=(4, 4))\n",
        "sns.heatmap(conf_matrix, annot=True, cmap='Blues', fmt='d', xticklabels=True, yticklabels=True)\n",
        "plt.title('Confusion Matrix')\n",
        "plt.xlabel('Predicted Label')\n",
        "plt.ylabel('True Label')\n",
        "plt.show()\n"
      ],
      "metadata": {
        "colab": {
          "base_uri": "https://localhost:8080/",
          "height": 462
        },
        "id": "0LUt_rqqlwSZ",
        "outputId": "682fe9f2-dba5-4bb5-80b5-84a44b33a6b7"
      },
      "execution_count": 4,
      "outputs": [
        {
          "output_type": "stream",
          "name": "stdout",
          "text": [
            "Test Accuracy: 0.9703\n",
            "Test F1 Score: 0.9603\n",
            "Test Recall: 0.9586\n"
          ]
        },
        {
          "output_type": "display_data",
          "data": {
            "text/plain": [
              "<Figure size 400x400 with 2 Axes>"
            ],
            "image/png": "[encoded data removed]"
          },
          "metadata": {}
        }
      ]
    },
    {
      "cell_type": "markdown",
      "source": [
        "### 2) Multiclass Classification"
      ],
      "metadata": {
        "id": "Xo0wImwMmTFQ"
      }
    },
    {
      "cell_type": "code",
      "source": [
        "\n",
        "# Loading and preprocessing the dataset\n",
        "df = pd.read_csv('dm.csv')\n",
        "features = df.iloc[:, :-1]\n",
        "labels = df.iloc[:, -1]\n",
        "\n",
        "# Splitting the data into training and testing sets\n",
        "X_train, X_test, y_train, y_test = train_test_split(features, labels, test_size=0.2, random_state=42)\n",
        "\n",
        "# Converting the data to PyTorch tensors and moving to GPU if available\n",
        "device = torch.device('cuda' if torch.cuda.is_available() else 'cpu')\n",
        "X_train = torch.tensor(X_train.values, dtype=torch.float32).to(device)\n",
        "y_train = torch.tensor(y_train.values, dtype=torch.long).to(device)\n",
        "X_test = torch.tensor(X_test.values, dtype=torch.float32).to(device)\n",
        "y_test = torch.tensor(y_test.values, dtype=torch.long).to(device)\n",
        "\n",
        "# Creating DataLoader objects for training and testing sets\n",
        "train_dataset = MyDataset(X_train, y_train)\n",
        "test_dataset = MyDataset(X_test, y_test)\n",
        "\n",
        "train_dataloader = DataLoader(train_dataset, batch_size=32, shuffle=True)\n",
        "test_dataloader = DataLoader(test_dataset, batch_size=32, shuffle=False)\n",
        "\n",
        "# Defining the model, loss function, and optimizer and moving to GPU\n",
        "input_size = X_train.shape[1]\n",
        "hidden_size = 64\n",
        "num_classes = 6\n",
        "\n",
        "model = MyNet(input_size, hidden_size, num_classes).to(device)"
      ],
      "metadata": {
        "id": "TeoH1Z5Tl9kN"
      },
      "execution_count": 5,
      "outputs": []
    },
    {
      "cell_type": "code",
      "source": [
        "weights_path = 'dm.pth'\n",
        "model.load_state_dict(torch.load(weights_path))\n"
      ],
      "metadata": {
        "colab": {
          "base_uri": "https://localhost:8080/"
        },
        "id": "JlAnqpP9mgKo",
        "outputId": "64c64744-e243-4d6c-cfd3-b7e46e3897b6"
      },
      "execution_count": 6,
      "outputs": [
        {
          "output_type": "execute_result",
          "data": {
            "text/plain": [
              "<All keys matched successfully>"
            ]
          },
          "metadata": {},
          "execution_count": 6
        }
      ]
    },
    {
      "cell_type": "code",
      "source": [
        "total_correct = 0\n",
        "total_samples = 0\n",
        "\n",
        "# Calculating F1 score, recall, and accuracy\n",
        "true_labels = []\n",
        "predicted_labels = []\n",
        "\n",
        "with torch.no_grad():\n",
        "    for inputs, targets in test_dataloader:\n",
        "        outputs = model(inputs.unsqueeze(1))\n",
        "        _, predicted = torch.max(outputs, dim=1)\n",
        "\n",
        "        true_labels.extend(targets.cpu().numpy())\n",
        "        predicted_labels.extend(predicted.cpu().numpy())\n",
        "\n",
        "test_accuracy = accuracy_score(true_labels, predicted_labels)\n",
        "f1 = f1_score(true_labels, predicted_labels, average='macro')\n",
        "recall = recall_score(true_labels, predicted_labels, average='macro')\n",
        "\n",
        "print(f'Test Accuracy: {test_accuracy:.4f}')\n",
        "print(f'Test F1 Score: {f1:.4f}')\n",
        "print(f'Test Recall: {recall:.4f}')\n",
        "\n",
        "# Calculating and plotting the confusion matrix\n",
        "conf_matrix = confusion_matrix(true_labels, predicted_labels)\n",
        "plt.figure(figsize=(4, 4))\n",
        "sns.heatmap(conf_matrix, annot=True, cmap='Blues', fmt='d', xticklabels=True, yticklabels=True)\n",
        "plt.title('Confusion Matrix')\n",
        "plt.xlabel('Predicted Label')\n",
        "plt.ylabel('True Label')\n",
        "plt.show()\n"
      ],
      "metadata": {
        "colab": {
          "base_uri": "https://localhost:8080/",
          "height": 462
        },
        "id": "iQubgpExmjlo",
        "outputId": "f2db9594-d715-4334-b44b-014f1d366daa"
      },
      "execution_count": 7,
      "outputs": [
        {
          "output_type": "stream",
          "name": "stdout",
          "text": [
            "Test Accuracy: 0.9667\n",
            "Test F1 Score: 0.8967\n",
            "Test Recall: 0.8700\n"
          ]
        },
        {
          "output_type": "display_data",
          "data": {
            "text/plain": [
              "<Figure size 400x400 with 2 Axes>"
            ],
            "image/png": "[encoded data removed]"
          },
          "metadata": {}
        }
      ]
    },
    {
      "cell_type": "code",
      "source": [],
      "metadata": {
        "id": "Ivkx9YOumljl"
      },
      "execution_count": null,
      "outputs": []
    }
  ]
}