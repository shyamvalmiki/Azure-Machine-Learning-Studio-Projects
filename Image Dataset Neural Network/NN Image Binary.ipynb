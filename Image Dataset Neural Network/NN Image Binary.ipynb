{
  "nbformat": 4,
  "nbformat_minor": 0,
  "metadata": {
    "colab": {
      "provenance": []
    },
    "kernelspec": {
      "name": "python3",
      "display_name": "Python 3"
    },
    "language_info": {
      "name": "python"
    }
  },
  "cells": [
    {
      "cell_type": "code",
      "execution_count": null,
      "metadata": {
        "id": "UGRsMYE-7Qbd"
      },
      "outputs": [],
      "source": [
        "import torch\n",
        "import torch.nn as nn\n",
        "import seaborn as sns\n",
        "import pandas as pd\n",
        "import torch.optim as optim\n",
        "import matplotlib.pyplot as plt\n",
        "from torch.utils.data import Dataset, DataLoader\n",
        "from sklearn.model_selection import train_test_split\n",
        "from sklearn.metrics import f1_score, recall_score, confusion_matrix, classification_report\n",
        "\n",
        "# Defining neural network architecture\n",
        "\n",
        "class MyNet(nn.Module):\n",
        "  def __init__(self,in_channels, out_channels,n_classes):\n",
        "    super(MyNet,self).__init__()\n",
        "\n",
        "    self.conv1 = nn.Conv2d(1,16,kernel_size = 3, stride = 1, padding = 1)\n",
        "    self.relu1 = nn.ReLU()\n",
        "    self.maxpool = nn.MaxPool2d(kernel_size = 2, stride = 2)\n",
        "    self.conv2 = nn.Conv2d(16,32,kernel_size = 3, stride = 1, padding = 1)\n",
        "    self.relu2 = nn.ReLU()\n",
        "    self.fc1 = nn.Linear(4608, 256)\n",
        "    self.fc2 = nn.Linear(256,128)\n",
        "    self.fc3 = nn.Linear(128,64)\n",
        "    self.fc4 = nn.Linear(64,64)\n",
        "    self.fc5 = nn.Linear(64, n_classes)\n",
        "    self.relu3 = nn.ReLU()\n",
        "    self.relu4 = nn.ReLU()\n",
        "    self.relu5 = nn.ReLU()\n",
        "    self.relu6 = nn.ReLU()\n",
        "    self.relu7 = nn.ReLU()\n",
        "\n",
        "  def forward(self,x):\n",
        "    out = self.conv1(x)\n",
        "    out = self.relu1(out)\n",
        "    out = self.maxpool(out)\n",
        "    out = self.conv2(out)\n",
        "    out = self.relu2(out)\n",
        "    out = self.maxpool(out)\n",
        "    out = out.view(out.size(0),-1)\n",
        "    out = self.fc1(out)\n",
        "    out = self.relu3(out)\n",
        "    out = self.fc2(out)\n",
        "    out = self.relu4(out)\n",
        "    out = self.fc3(out)\n",
        "    out = self.relu5(out)\n",
        "    out = self.fc4(out)\n",
        "    out = self.relu6(out)\n",
        "    out = self.fc5(out)\n",
        "    out = self.relu7(out)\n",
        "    return out\n",
        "\n",
        "# Customizing dataset class\n",
        "class MyDataset(Dataset):\n",
        "    def __init__(self, data, labels):\n",
        "        self.data = data\n",
        "        self.labels = labels\n",
        "\n",
        "    def __len__(self):\n",
        "        return len(self.data)\n",
        "\n",
        "    def __getitem__(self, idx):\n",
        "        x = self.data[idx]\n",
        "        y = self.labels[idx]\n",
        "        return x, y"
      ]
    },
    {
      "cell_type": "code",
      "source": [
        "# Loading and preprocessing the dataset\n",
        "df = pd.read_csv('ina.csv')\n",
        "features = df.iloc[:, :-1]\n",
        "labels = df.iloc[:, -1]\n",
        "\n",
        "# Splitting the data into training and testing sets\n",
        "X_train, X_test, y_train, y_test = train_test_split(features, labels, test_size=0.2, random_state=42)\n",
        "\n",
        "# Converting the data to PyTorch tensors\n",
        "X_train = torch.tensor(X_train.values, dtype=torch.float32)\n",
        "y_train = torch.tensor(y_train.values, dtype=torch.long)\n",
        "X_test = torch.tensor(X_test.values, dtype=torch.float32)\n",
        "y_test = torch.tensor(y_test.values, dtype=torch.long)\n",
        "\n",
        "X_train = X_train.view(-1, 1, 50, 50)\n",
        "X_test = X_test.view(-1, 1, 50, 50)\n",
        "\n",
        "# Creating DataLoader objects for training and testing sets\n",
        "train_dataset = MyDataset(X_train, y_train)\n",
        "test_dataset = MyDataset(X_test, y_test)\n",
        "\n",
        "\n",
        "\n",
        "train_dataloader = DataLoader(train_dataset, batch_size=32, shuffle=True)\n",
        "test_dataloader = DataLoader(test_dataset, batch_size=32, shuffle=False)\n",
        "\n",
        "# Defining the model, loss function, and optimizer\n",
        "input_size = X_train.shape[1]\n",
        "hidden_size = 64\n",
        "num_classes = 2\n",
        "\n",
        "model = MyNet(input_size, hidden_size, num_classes)\n",
        "criterion = nn.CrossEntropyLoss()\n",
        "optimizer = optim.Adam(model.parameters(), lr=0.001)\n",
        "\n",
        "# Training loop\n",
        "num_epochs = 40\n",
        "\n",
        "for epoch in range(num_epochs):\n",
        "    for inputs, targets in train_dataloader:\n",
        "        optimizer.zero_grad()\n",
        "        outputs = model(inputs)\n",
        "        loss = criterion(outputs, targets)\n",
        "        loss.backward()\n",
        "        optimizer.step()\n",
        "\n",
        "    print(f'Epoch {epoch+1}/{num_epochs}, Loss: {loss.item()}')\n",
        "\n",
        "# Evaluation\n",
        "model.eval()\n",
        "total_correct = 0\n",
        "total_samples = 0\n",
        "\n",
        "with torch.no_grad():\n",
        "    for inputs, targets in test_dataloader:\n",
        "        outputs = model(inputs)\n",
        "        _, predicted = torch.max(outputs, dim=1)\n",
        "        total_samples += targets.size(0)\n",
        "        total_correct += (predicted == targets).sum().item()\n",
        "\n",
        "accuracy = total_correct / total_samples\n",
        "print(f'Test accuracy: {accuracy}')\n"
      ],
      "metadata": {
        "id": "psj_Snk-eakj"
      },
      "execution_count": null,
      "outputs": []
    },
    {
      "cell_type": "code",
      "source": [
        "num_epochs = 40\n",
        "train_losses = []\n",
        "train_accuracies = []\n",
        "\n",
        "for epoch in range(num_epochs):\n",
        "    model.train()  # Set the model to training mode\n",
        "    total_correct_train = 0\n",
        "    total_samples_train = 0\n",
        "    total_loss_train = 0.0\n",
        "\n",
        "    for inputs, targets in train_dataloader:\n",
        "        optimizer.zero_grad()\n",
        "        outputs = model(inputs)\n",
        "        loss = criterion(outputs, targets)\n",
        "        loss.backward()\n",
        "        optimizer.step()\n",
        "\n",
        "        _, predicted = torch.max(outputs, dim=1)\n",
        "        total_samples_train += targets.size(0)\n",
        "        total_correct_train += (predicted == targets).sum().item()\n",
        "        total_loss_train += loss.item()\n",
        "\n",
        "    epoch_loss = total_loss_train / len(train_dataloader)\n",
        "    epoch_accuracy = total_correct_train / total_samples_train\n",
        "\n",
        "    train_losses.append(epoch_loss)\n",
        "    train_accuracies.append(epoch_accuracy)\n",
        "\n",
        "    print(f'Epoch {epoch + 1}/{num_epochs}, Loss: {epoch_loss:.4f}, Accuracy: {epoch_accuracy:.4f}')\n",
        "\n",
        "# Evaluation\n",
        "model.eval()\n",
        "total_correct = 0\n",
        "total_samples = 0\n",
        "true_labels = []\n",
        "predicted_labels = []\n",
        "\n",
        "with torch.no_grad():\n",
        "    for inputs, targets in test_dataloader:\n",
        "        outputs = model(inputs)\n",
        "        _, predicted = torch.max(outputs, dim=1)\n",
        "        total_samples += targets.size(0)\n",
        "        total_correct += (predicted == targets).sum().item()\n",
        "\n",
        "        true_labels.extend(targets.cpu().numpy())\n",
        "        predicted_labels.extend(predicted.cpu().numpy())\n",
        "\n",
        "accuracy = total_correct / total_samples\n",
        "print(f'Test accuracy: {accuracy}')\n",
        "\n",
        "# Calculating F1 score and recall\n",
        "f1 = f1_score(true_labels, predicted_labels, average='macro')\n",
        "recall = recall_score(true_labels, predicted_labels, average='macro')\n",
        "print(f'Test F1 score: {f1}')\n",
        "print(f'Test recall: {recall}')\n",
        "\n",
        "# Drawing the confusion matrix plot using Seaborn\n",
        "cm = confusion_matrix(true_labels, predicted_labels)\n",
        "plt.figure(figsize=(10, 8))\n",
        "sns.heatmap(cm, annot=True, fmt='d', cmap='Blues', xticklabels=True, yticklabels=True)\n",
        "plt.title('Confusion Matrix')\n",
        "plt.xlabel('Predicted Label')\n",
        "plt.ylabel('True Label')\n",
        "plt.show()\n",
        "\n",
        "# Plotting training loss and accuracy\n",
        "plt.figure(figsize=(10, 6))\n",
        "plt.plot(range(1, num_epochs + 1), train_losses, label='Training Loss')\n",
        "plt.plot(range(1, num_epochs + 1), train_accuracies, label='Training Accuracy')\n",
        "plt.xlabel('Epoch')\n",
        "plt.ylabel('Loss/Accuracy')\n",
        "plt.title('Training Loss and Accuracy')\n",
        "plt.legend()\n",
        "plt.show()"
      ],
      "metadata": {
        "id": "ccbJRQ0jek4u"
      },
      "execution_count": null,
      "outputs": []
    },
    {
      "cell_type": "code",
      "source": [
        "# Plotting training loss and accuracy separately\n",
        "plt.figure(figsize=(10, 6))\n",
        "plt.plot(range(1, num_epochs + 1), train_losses, label='Training Loss')\n",
        "plt.xlabel('Epoch')\n",
        "plt.ylabel('Loss')\n",
        "plt.title('Training Loss')\n",
        "plt.legend()\n",
        "plt.show()\n",
        "\n",
        "plt.figure(figsize=(10, 6))\n",
        "plt.plot(range(1, num_epochs + 1), train_accuracies, label='Training Accuracy')\n",
        "plt.xlabel('Epoch')\n",
        "plt.ylabel('Accuracy')\n",
        "plt.title('Accuracy')\n",
        "plt.legend()\n",
        "plt.show()"
      ],
      "metadata": {
        "id": "lMcqxo64epMa"
      },
      "execution_count": null,
      "outputs": []
    },
    {
      "cell_type": "code",
      "source": [
        "pretrained_weights = torch.load('nnna.pth')\n",
        "model.load_state_dict(pretrained_weights)"
      ],
      "metadata": {
        "colab": {
          "base_uri": "https://localhost:8080/"
        },
        "id": "XrubWpcYzJCe",
        "outputId": "fa486b9f-5825-43a3-bd1b-5df692b0f075"
      },
      "execution_count": null,
      "outputs": [
        {
          "output_type": "execute_result",
          "data": {
            "text/plain": [
              "<All keys matched successfully>"
            ]
          },
          "metadata": {},
          "execution_count": 14
        }
      ]
    },
    {
      "cell_type": "code",
      "source": [
        "\n",
        "# Evaluation\n",
        "model.eval()\n",
        "total_correct = 0\n",
        "total_samples = 0\n",
        "\n",
        "with torch.no_grad():\n",
        "    for inputs, targets in test_dataloader:\n",
        "        outputs = model(inputs)\n",
        "        _, predicted = torch.max(outputs, dim=1)\n",
        "        total_samples += targets.size(0)\n",
        "        total_correct += (predicted == targets).sum().item()\n",
        "\n",
        "accuracy = total_correct / total_samples\n",
        "print(f'Test accuracy: {accuracy}')\n"
      ],
      "metadata": {
        "colab": {
          "base_uri": "https://localhost:8080/"
        },
        "id": "a9ZtPltW08BM",
        "outputId": "5e1d82fe-8b71-4b78-a30d-ca0fea86b26f"
      },
      "execution_count": null,
      "outputs": [
        {
          "output_type": "stream",
          "name": "stdout",
          "text": [
            "Test accuracy: 0.9982897630100172\n"
          ]
        }
      ]
    },
    {
      "cell_type": "code",
      "source": [
        "\n",
        "# Evaluation\n",
        "model.eval()\n",
        "total_correct = 0\n",
        "total_samples = 0\n",
        "true_labels = []\n",
        "predicted_labels = []\n",
        "\n",
        "with torch.no_grad():\n",
        "    for inputs, targets in test_dataloader:\n",
        "        outputs = model(inputs)\n",
        "        _, predicted = torch.max(outputs, dim=1)\n",
        "        total_samples += targets.size(0)\n",
        "        total_correct += (predicted == targets).sum().item()\n",
        "\n",
        "        true_labels.extend(targets.cpu().numpy())\n",
        "        predicted_labels.extend(predicted.cpu().numpy())\n",
        "\n",
        "accuracy = total_correct / total_samples\n",
        "print(f'Test accuracy: {accuracy}')\n",
        "\n",
        "# Calculating F1 score and recall\n",
        "f1 = f1_score(true_labels, predicted_labels, average='macro')\n",
        "recall = recall_score(true_labels, predicted_labels, average='macro')\n",
        "print(f'Test F1 score: {f1}')\n",
        "print(f'Test recall: {recall}')\n",
        "\n",
        "# Drawing the confusion matrix plot using Seaborn\n",
        "cm = confusion_matrix(true_labels, predicted_labels)\n",
        "plt.figure(figsize=(10, 8))\n",
        "sns.heatmap(cm, annot=True, fmt='d', cmap='Blues', xticklabels=True, yticklabels=True)\n",
        "plt.title('Confusion Matrix')\n",
        "plt.xlabel('Predicted Label')\n",
        "plt.ylabel('True Label')\n",
        "plt.show()"
      ],
      "metadata": {
        "colab": {
          "base_uri": "https://localhost:8080/",
          "height": 770
        },
        "id": "oWPkDK8I1V74",
        "outputId": "fb0e22d6-4b7b-45c1-b666-3cd14c899385"
      },
      "execution_count": null,
      "outputs": [
        {
          "output_type": "stream",
          "name": "stdout",
          "text": [
            "Test accuracy: 0.9982897630100172\n",
            "Test F1 score: 0.9978385981810609\n",
            "Test recall: 0.9981199802389218\n"
          ]
        },
        {
          "output_type": "display_data",
          "data": {
            "text/plain": [
              "<Figure size 1000x800 with 2 Axes>"
            ],
            "image/png": "[encoded data removed]"
          },
          "metadata": {}
        }
      ]
    },
    {
      "cell_type": "code",
      "source": [],
      "metadata": {
        "id": "9MdM0XNF75Og"
      },
      "execution_count": null,
      "outputs": []
    }
  ]
}