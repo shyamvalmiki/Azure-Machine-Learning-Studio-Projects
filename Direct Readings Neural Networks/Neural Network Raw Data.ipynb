{
  "nbformat": 4,
  "nbformat_minor": 0,
  "metadata": {
    "colab": {
      "provenance": [],
      "gpuType": "T4"
    },
    "kernelspec": {
      "name": "python3",
      "display_name": "Python 3"
    },
    "language_info": {
      "name": "python"
    },
    "accelerator": "GPU"
  },
  "cells": [
    {
      "cell_type": "markdown",
      "source": [
        "# Raw Data"
      ],
      "metadata": {
        "id": "tg7dxeR0z_KK"
      }
    },
    {
      "cell_type": "markdown",
      "source": [
        "### 1) Normal And Abnormal"
      ],
      "metadata": {
        "id": "-vwwFZqh3tnn"
      }
    },
    {
      "cell_type": "code",
      "source": [
        "import torch\n",
        "import torch.nn as nn\n",
        "import torch.optim as optim\n",
        "import pandas as pd\n",
        "from torch.utils.data import Dataset, DataLoader\n",
        "from sklearn.model_selection import train_test_split\n",
        "import seaborn as sns\n",
        "import matplotlib.pyplot as plt\n",
        "from sklearn.metrics import confusion_matrix, classification_report\n",
        "from sklearn.metrics import accuracy_score, f1_score, recall_score\n",
        "\n",
        "\n",
        "class MyNet(nn.Module):\n",
        "    def __init__(self, in_channels, out_channels, n_classes):\n",
        "        super(MyNet, self).__init__()\n",
        "\n",
        "        self.conv1 = nn.Conv1d(1, 16, kernel_size=3, stride=1, padding=1)\n",
        "        self.relu1 = nn.ReLU()\n",
        "        self.maxpool1 = nn.MaxPool1d(kernel_size=2, stride=2)\n",
        "        self.conv2 = nn.Conv1d(16, 64, kernel_size=3, stride=1, padding=1)\n",
        "        self.relu2 = nn.ReLU()\n",
        "        self.maxpool2 = nn.MaxPool1d(kernel_size=2, stride=13)\n",
        "        self.fc1 = nn.Linear(512, 256)\n",
        "        self.fc2 = nn.Linear(256, 128)\n",
        "        self.fc3 = nn.Linear(128, 64)\n",
        "        self.fc4 = nn.Linear(64, 32)\n",
        "        self.fc5 = nn.Linear(32, n_classes)\n",
        "        self.relu3 = nn.ReLU()\n",
        "        self.relu4 = nn.ReLU()\n",
        "        self.relu5 = nn.ReLU()\n",
        "        self.relu6 = nn.ReLU()\n",
        "        self.relu7 = nn.ReLU()\n",
        "    def forward(self, x):\n",
        "        out = self.conv1(x)\n",
        "        out = self.relu1(out)\n",
        "        out = self.maxpool1(out)\n",
        "        out = self.conv2(out)\n",
        "        out = self.relu2(out)\n",
        "        out = self.maxpool2(out)\n",
        "        out = out.view(out.size(0), -1)\n",
        "        out = self.fc1(out)\n",
        "        out = self.relu3(out)\n",
        "        out = self.fc2(out)\n",
        "        out = self.relu4(out)\n",
        "        out = self.fc3(out)\n",
        "        out = self.relu5(out)\n",
        "        out = self.fc4(out)\n",
        "        out = self.relu6(out)\n",
        "        out = self.fc5(out)\n",
        "        out = self.relu7(out)\n",
        "        return out\n",
        "\n",
        "\n",
        "class MyDataset(Dataset):\n",
        "    def __init__(self, data, labels):\n",
        "        self.data = data\n",
        "        self.labels = labels\n",
        "\n",
        "    def __len__(self):\n",
        "        return len(self.data)\n",
        "\n",
        "    def __getitem__(self, idx):\n",
        "        x = self.data[idx]\n",
        "        y = self.labels[idx]\n",
        "        return x, y\n",
        "\n"
      ],
      "metadata": {
        "id": "cWO-FW_AJCLF"
      },
      "execution_count": null,
      "outputs": []
    },
    {
      "cell_type": "code",
      "execution_count": null,
      "metadata": {
        "colab": {
          "base_uri": "https://localhost:8080/"
        },
        "id": "u2xE9hWcGhrA",
        "outputId": "8fdf6ed6-cd11-46dc-f931-4adc9b54b671"
      },
      "outputs": [
        {
          "output_type": "stream",
          "name": "stdout",
          "text": [
            "Epoch 1/40, Loss: 0.28276222944259644\n",
            "Epoch 2/40, Loss: 0.17944398522377014\n",
            "Epoch 3/40, Loss: 0.35164767503738403\n",
            "Epoch 4/40, Loss: 0.3369563817977905\n",
            "Epoch 5/40, Loss: 0.08461209386587143\n",
            "Epoch 6/40, Loss: 0.03885902836918831\n",
            "Epoch 7/40, Loss: 0.035095393657684326\n",
            "Epoch 8/40, Loss: 0.09098665416240692\n",
            "Epoch 9/40, Loss: 0.036460645496845245\n",
            "Epoch 10/40, Loss: 0.10519219934940338\n",
            "Epoch 11/40, Loss: 0.00919918529689312\n",
            "Epoch 12/40, Loss: 0.33291539549827576\n",
            "Epoch 13/40, Loss: 0.17218568921089172\n",
            "Epoch 14/40, Loss: 0.06807506829500198\n",
            "Epoch 15/40, Loss: 0.06582272797822952\n",
            "Epoch 16/40, Loss: 0.033061034977436066\n",
            "Epoch 17/40, Loss: 0.012994999997317791\n",
            "Epoch 18/40, Loss: 0.005882361438125372\n",
            "Epoch 19/40, Loss: 0.01119986642152071\n",
            "Epoch 20/40, Loss: 0.038877591490745544\n",
            "Epoch 21/40, Loss: 0.012524619698524475\n",
            "Epoch 22/40, Loss: 0.0006650231080129743\n",
            "Epoch 23/40, Loss: 0.004419639240950346\n",
            "Epoch 24/40, Loss: 0.010066579096019268\n",
            "Epoch 25/40, Loss: 0.0012902480084449053\n",
            "Epoch 26/40, Loss: 0.0025906432420015335\n",
            "Epoch 27/40, Loss: 0.022566016763448715\n",
            "Epoch 28/40, Loss: 0.05968756228685379\n",
            "Epoch 29/40, Loss: 0.002546226605772972\n",
            "Epoch 30/40, Loss: 0.0012512244284152985\n",
            "Epoch 31/40, Loss: 0.003549627959728241\n",
            "Epoch 32/40, Loss: 0.030416373163461685\n",
            "Epoch 33/40, Loss: 0.00019827950745821\n",
            "Epoch 34/40, Loss: 0.045372314751148224\n",
            "Epoch 35/40, Loss: 0.019042301923036575\n",
            "Epoch 36/40, Loss: 0.006454685237258673\n",
            "Epoch 37/40, Loss: 0.018856238573789597\n",
            "Epoch 38/40, Loss: 0.00880762841552496\n",
            "Epoch 39/40, Loss: 0.00031426563509739935\n",
            "Epoch 40/40, Loss: 0.19507795572280884\n",
            "Test accuracy: 0.9703246657852211\n"
          ]
        }
      ],
      "source": [
        "\n",
        "# Loading and preprocessing the dataset\n",
        "df = pd.read_csv('dna.csv')\n",
        "features = df.iloc[:, :-1]\n",
        "labels = df.iloc[:, -1]\n",
        "\n",
        "# Splitting the data into training and testing sets\n",
        "X_train, X_test, y_train, y_test = train_test_split(features, labels, test_size=0.2, random_state=42)\n",
        "\n",
        "# Converting the data to PyTorch tensors and moving to GPU if available\n",
        "device = torch.device('cuda' if torch.cuda.is_available() else 'cpu')\n",
        "X_train = torch.tensor(X_train.values, dtype=torch.float32).to(device)\n",
        "y_train = torch.tensor(y_train.values, dtype=torch.long).to(device)\n",
        "X_test = torch.tensor(X_test.values, dtype=torch.float32).to(device)\n",
        "y_test = torch.tensor(y_test.values, dtype=torch.long).to(device)\n",
        "\n",
        "# Creating DataLoader objects for training and testing sets\n",
        "train_dataset = MyDataset(X_train, y_train)\n",
        "test_dataset = MyDataset(X_test, y_test)\n",
        "\n",
        "train_dataloader = DataLoader(train_dataset, batch_size=32, shuffle=True)\n",
        "test_dataloader = DataLoader(test_dataset, batch_size=32, shuffle=False)\n",
        "\n",
        "# Defining the model, loss function, and optimizer and moving to GPU\n",
        "input_size = X_train.shape[1]\n",
        "hidden_size = 64\n",
        "num_classes = 2\n",
        "\n",
        "model = MyNet(input_size, hidden_size, num_classes).to(device)\n",
        "criterion = nn.CrossEntropyLoss()\n",
        "optimizer = optim.Adam(model.parameters(), lr=0.001)\n",
        "\n",
        "# Training loop\n",
        "num_epochs = 40\n",
        "\n",
        "for epoch in range(num_epochs):\n",
        "    model.train()\n",
        "    for inputs, targets in train_dataloader:\n",
        "        optimizer.zero_grad()\n",
        "        outputs = model(inputs.unsqueeze(1).to(device))  # Add channel dimension and move to GPU\n",
        "        loss = criterion(outputs, targets)\n",
        "        loss.backward()\n",
        "        optimizer.step()\n",
        "\n",
        "    print(f'Epoch {epoch+1}/{num_epochs}, Loss: {loss.item()}')\n",
        "\n",
        "# Evaluation\n",
        "model.eval()\n",
        "total_correct = 0\n",
        "total_samples = 0\n",
        "\n",
        "with torch.no_grad():\n",
        "    for inputs, targets in test_dataloader:\n",
        "        outputs = model(inputs.unsqueeze(1).to(device))\n",
        "        _, predicted = torch.max(outputs, dim=1)\n",
        "        total_samples += targets.size(0)\n",
        "        total_correct += (predicted == targets).sum().item()\n",
        "\n",
        "accuracy = total_correct / total_samples\n",
        "print(f'Test accuracy: {accuracy}')\n"
      ]
    },
    {
      "cell_type": "code",
      "source": [
        "total_correct = 0\n",
        "total_samples = 0\n",
        "\n",
        "# Calculating F1 score, recall, and accuracy\n",
        "true_labels = []\n",
        "predicted_labels = []\n",
        "\n",
        "with torch.no_grad():\n",
        "    for inputs, targets in test_dataloader:\n",
        "        outputs = model(inputs.unsqueeze(1))\n",
        "        _, predicted = torch.max(outputs, dim=1)\n",
        "\n",
        "        true_labels.extend(targets.cpu().numpy())\n",
        "        predicted_labels.extend(predicted.cpu().numpy())\n",
        "\n",
        "test_accuracy = accuracy_score(true_labels, predicted_labels)\n",
        "f1 = f1_score(true_labels, predicted_labels, average='macro')\n",
        "recall = recall_score(true_labels, predicted_labels, average='macro')\n",
        "\n",
        "print(f'Test Accuracy: {test_accuracy:.4f}')\n",
        "print(f'Test F1 Score: {f1:.4f}')\n",
        "print(f'Test Recall: {recall:.4f}')\n",
        "\n",
        "# Calculating and plotting the confusion matrix\n",
        "conf_matrix = confusion_matrix(true_labels, predicted_labels)\n",
        "plt.figure(figsize=(4, 4))\n",
        "sns.heatmap(conf_matrix, annot=True, cmap='Blues', fmt='d', xticklabels=True, yticklabels=True)\n",
        "plt.title('Confusion Matrix')\n",
        "plt.xlabel('Predicted Label')\n",
        "plt.ylabel('True Label')\n",
        "plt.show()\n"
      ],
      "metadata": {
        "colab": {
          "base_uri": "https://localhost:8080/",
          "height": 462
        },
        "id": "6XL44mZShpgA",
        "outputId": "d1349c52-9e33-40fe-94c6-f59789eb8a9e"
      },
      "execution_count": null,
      "outputs": [
        {
          "output_type": "stream",
          "name": "stdout",
          "text": [
            "Test Accuracy: 0.9703\n",
            "Test F1 Score: 0.9603\n",
            "Test Recall: 0.9586\n"
          ]
        },
        {
          "output_type": "display_data",
          "data": {
            "text/plain": [
              "<Figure size 400x400 with 2 Axes>"
            ],
            "image/png": "[encoded data removed]"
          },
          "metadata": {}
        }
      ]
    },
    {
      "cell_type": "code",
      "source": [
        "# Saving the model\n",
        "model_path = 'model_weights.pth'\n",
        "torch.save(model.state_dict(), model_path)\n"
      ],
      "metadata": {
        "id": "hiBM09r4J7qE"
      },
      "execution_count": null,
      "outputs": []
    },
    {
      "cell_type": "markdown",
      "source": [
        "### 2) Multiclass"
      ],
      "metadata": {
        "id": "NY65aMlI36Sn"
      }
    },
    {
      "cell_type": "code",
      "source": [
        "\n",
        "# Loading and preprocessing the dataset\n",
        "df = pd.read_csv('dm.csv')\n",
        "features = df.iloc[:, :-1]\n",
        "labels = df.iloc[:, -1]\n",
        "\n",
        "# Splitting the data into training and testing sets\n",
        "X_train, X_test, y_train, y_test = train_test_split(features, labels, test_size=0.2, random_state=42)\n",
        "\n",
        "# Converting the data to PyTorch tensors and moving to GPU if available\n",
        "device = torch.device('cuda' if torch.cuda.is_available() else 'cpu')\n",
        "X_train = torch.tensor(X_train.values, dtype=torch.float32).to(device)\n",
        "y_train = torch.tensor(y_train.values, dtype=torch.long).to(device)\n",
        "X_test = torch.tensor(X_test.values, dtype=torch.float32).to(device)\n",
        "y_test = torch.tensor(y_test.values, dtype=torch.long).to(device)\n",
        "\n",
        "# Creating DataLoader objects for training and testing sets\n",
        "train_dataset = MyDataset(X_train, y_train)\n",
        "test_dataset = MyDataset(X_test, y_test)\n",
        "\n",
        "train_dataloader = DataLoader(train_dataset, batch_size=32, shuffle=True)\n",
        "test_dataloader = DataLoader(test_dataset, batch_size=32, shuffle=False)\n",
        "\n",
        "# Defining the model, loss function, and optimizer and moving to GPU\n",
        "input_size = X_train.shape[1]\n",
        "hidden_size = 64\n",
        "num_classes = 6\n",
        "\n",
        "model = MyNet(input_size, hidden_size, num_classes).to(device)\n",
        "criterion = nn.CrossEntropyLoss()\n",
        "optimizer = optim.Adam(model.parameters(), lr=0.001)\n",
        "\n",
        "# Training loop\n",
        "num_epochs = 40\n",
        "\n",
        "for epoch in range(num_epochs):\n",
        "    model.train()\n",
        "    for inputs, targets in train_dataloader:\n",
        "        optimizer.zero_grad()\n",
        "        outputs = model(inputs.unsqueeze(1).to(device))\n",
        "        loss = criterion(outputs, targets)\n",
        "        loss.backward()\n",
        "        optimizer.step()\n",
        "\n",
        "    print(f'Epoch {epoch+1}/{num_epochs}, Loss: {loss.item()}')\n"
      ],
      "metadata": {
        "colab": {
          "base_uri": "https://localhost:8080/"
        },
        "id": "kejJjuRxiBTu",
        "outputId": "38d029fe-a179-4ff9-a250-51b400654920"
      },
      "execution_count": null,
      "outputs": [
        {
          "output_type": "stream",
          "name": "stdout",
          "text": [
            "Epoch 1/40, Loss: 0.3527626097202301\n",
            "Epoch 2/40, Loss: 0.5434969067573547\n",
            "Epoch 3/40, Loss: 0.5054072141647339\n",
            "Epoch 4/40, Loss: 0.16663391888141632\n",
            "Epoch 5/40, Loss: 0.14195501804351807\n",
            "Epoch 6/40, Loss: 0.09951610118150711\n",
            "Epoch 7/40, Loss: 0.1220940500497818\n",
            "Epoch 8/40, Loss: 0.2782387435436249\n",
            "Epoch 9/40, Loss: 0.1483549177646637\n",
            "Epoch 10/40, Loss: 0.03129209205508232\n",
            "Epoch 11/40, Loss: 0.6114692687988281\n",
            "Epoch 12/40, Loss: 0.014949219301342964\n",
            "Epoch 13/40, Loss: 0.07980766892433167\n",
            "Epoch 14/40, Loss: 0.04896211996674538\n",
            "Epoch 15/40, Loss: 0.10576649010181427\n",
            "Epoch 16/40, Loss: 0.04599662125110626\n",
            "Epoch 17/40, Loss: 0.09555036574602127\n",
            "Epoch 18/40, Loss: 0.10361325740814209\n",
            "Epoch 19/40, Loss: 0.25520947575569153\n",
            "Epoch 20/40, Loss: 0.09610559046268463\n",
            "Epoch 21/40, Loss: 0.19756542146205902\n",
            "Epoch 22/40, Loss: 0.003269237233325839\n",
            "Epoch 23/40, Loss: 0.23528814315795898\n",
            "Epoch 24/40, Loss: 0.04217476770281792\n",
            "Epoch 25/40, Loss: 0.010470883920788765\n",
            "Epoch 26/40, Loss: 0.03112700581550598\n",
            "Epoch 27/40, Loss: 0.036613933742046356\n",
            "Epoch 28/40, Loss: 0.011958776973187923\n",
            "Epoch 29/40, Loss: 0.10472621023654938\n",
            "Epoch 30/40, Loss: 0.06676334887742996\n",
            "Epoch 31/40, Loss: 0.008691580966114998\n",
            "Epoch 32/40, Loss: 0.0928148478269577\n",
            "Epoch 33/40, Loss: 0.012098492123186588\n",
            "Epoch 34/40, Loss: 0.028973853215575218\n",
            "Epoch 35/40, Loss: 0.003080352209508419\n",
            "Epoch 36/40, Loss: 0.000894357159268111\n",
            "Epoch 37/40, Loss: 0.006376680918037891\n",
            "Epoch 38/40, Loss: 0.00118946039583534\n",
            "Epoch 39/40, Loss: 0.0042187818326056\n",
            "Epoch 40/40, Loss: 0.014480126090347767\n"
          ]
        }
      ]
    },
    {
      "cell_type": "code",
      "source": [
        "total_correct = 0\n",
        "total_samples = 0\n",
        "\n",
        "# Calculating F1 score, recall, and accuracy\n",
        "true_labels = []\n",
        "predicted_labels = []\n",
        "\n",
        "with torch.no_grad():\n",
        "    for inputs, targets in test_dataloader:\n",
        "        outputs = model(inputs.unsqueeze(1))\n",
        "        _, predicted = torch.max(outputs, dim=1)\n",
        "\n",
        "        true_labels.extend(targets.cpu().numpy())\n",
        "        predicted_labels.extend(predicted.cpu().numpy())\n",
        "\n",
        "test_accuracy = accuracy_score(true_labels, predicted_labels)\n",
        "f1 = f1_score(true_labels, predicted_labels, average='macro')\n",
        "recall = recall_score(true_labels, predicted_labels, average='macro')\n",
        "\n",
        "print(f'Test Accuracy: {test_accuracy:.4f}')\n",
        "print(f'Test F1 Score: {f1:.4f}')\n",
        "print(f'Test Recall: {recall:.4f}')\n",
        "\n",
        "# Calculating and plotting the confusion matrix\n",
        "conf_matrix = confusion_matrix(true_labels, predicted_labels)\n",
        "plt.figure(figsize=(4, 4))\n",
        "sns.heatmap(conf_matrix, annot=True, cmap='Blues', fmt='d', xticklabels=True, yticklabels=True)\n",
        "plt.title('Confusion Matrix')\n",
        "plt.xlabel('Predicted Label')\n",
        "plt.ylabel('True Label')\n",
        "plt.show()"
      ],
      "metadata": {
        "colab": {
          "base_uri": "https://localhost:8080/",
          "height": 462
        },
        "id": "vi44f21tiPRq",
        "outputId": "c64f79ca-c8db-4c56-cba4-c7faf6708022"
      },
      "execution_count": null,
      "outputs": [
        {
          "output_type": "stream",
          "name": "stdout",
          "text": [
            "Test Accuracy: 0.9667\n",
            "Test F1 Score: 0.8967\n",
            "Test Recall: 0.8700\n"
          ]
        },
        {
          "output_type": "display_data",
          "data": {
            "text/plain": [
              "<Figure size 400x400 with 2 Axes>"
            ],
            "image/png": "[encoded data removed]"
          },
          "metadata": {}
        }
      ]
    },
    {
      "cell_type": "code",
      "source": [
        "# Saving the model\n",
        "model_path = 'model_weights.pth'\n",
        "torch.save(model.state_dict(), model_path)\n"
      ],
      "metadata": {
        "id": "RyMByl5Sll_p"
      },
      "execution_count": null,
      "outputs": []
    }
  ]
}